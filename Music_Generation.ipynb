{
  "cells": [
    {
      "cell_type": "markdown",
      "metadata": {
        "id": "view-in-github",
        "colab_type": "text"
      },
      "source": [
        "<a href=\"https://colab.research.google.com/github/jaideep6214/Project-1-Music-Generator-using-LSTM/blob/main/Music_Generation.ipynb\" target=\"_parent\"><img src=\"https://colab.research.google.com/assets/colab-badge.svg\" alt=\"Open In Colab\"/></a>"
      ]
    },
    {
      "cell_type": "code",
      "execution_count": 1,
      "metadata": {
        "colab": {
          "base_uri": "https://localhost:8080/"
        },
        "id": "x0QcUJkTcLx0",
        "outputId": "ffbc07a8-5e60-431c-f317-eabeafebad87"
      },
      "outputs": [
        {
          "output_type": "stream",
          "name": "stdout",
          "text": [
            "Mounted at /content/gdrive\n"
          ]
        }
      ],
      "source": [
        "from google.colab import drive\n",
        "drive.mount('/content/gdrive')"
      ]
    },
    {
      "cell_type": "markdown",
      "metadata": {
        "id": "P3E4tAgaeJzy"
      },
      "source": [
        "## **Importing Libraries**"
      ]
    },
    {
      "cell_type": "code",
      "execution_count": 2,
      "metadata": {
        "id": "CgbC0C3NeAeg"
      },
      "outputs": [],
      "source": [
        "import pandas as pd\n",
        "import numpy as np\n",
        "import music21\n",
        "from music21 import *\n",
        "import json\n",
        "from IPython.display import Image, Audio\n",
        "import matplotlib.pyplot as plt \n",
        "from sklearn.model_selection import train_test_split\n",
        "from tensorflow.keras.models import Sequential\n",
        "from tensorflow.keras.layers import LSTM, Dense, Dropout\n",
        "import tensorflow.keras.backend as K\n",
        "from tensorflow.keras.optimizers import Adamax\n",
        "import seaborn as sns\n",
        "import matplotlib.pyplot as plt\n",
        "import matplotlib.patches as mpatches\n",
        "%matplotlib inline\n",
        "import sys\n",
        "import warnings\n",
        "warnings.filterwarnings(\"ignore\")\n",
        "warnings.simplefilter(\"ignore\")\n",
        "from collections import Counter\n",
        "np.random.seed(42)\n",
        "import tensorflow \n"
      ]
    },
    {
      "cell_type": "markdown",
      "metadata": {
        "id": "HDguDFiWeNWT"
      },
      "source": [
        "## **Importing MIDI Files (Music Files)**"
      ]
    },
    {
      "cell_type": "code",
      "execution_count": 3,
      "metadata": {
        "id": "pR_XbAjqiPmZ",
        "colab": {
          "base_uri": "https://localhost:8080/"
        },
        "outputId": "8cf7bc63-776d-4afb-bbae-f71cccf5e0c3"
      },
      "outputs": [
        {
          "output_type": "stream",
          "name": "stdout",
          "text": [
            "001\n",
            "002\n",
            "003\n",
            "004\n",
            "005\n",
            "006\n",
            "007\n",
            "008\n",
            "009\n",
            "010\n",
            "011\n",
            "012\n",
            "013\n",
            "014\n",
            "015\n",
            "016\n"
          ]
        }
      ],
      "source": [
        "all_midis= []\n",
        "for i in range (1,17):\n",
        "  file = str(i)\n",
        "  if (len(file)==1):      #Making the number in 000 format\n",
        "    file = \"00\"+file\n",
        "  elif (len(file)==2):\n",
        "    file = \"0\"+file\n",
        "  print(file)\n",
        "  midfilepath = \"/content/gdrive/My Drive/Projects/Music Generation/liszt/\"+file+\".mid/\"   #midi file path\n",
        "  midi = converter.parse(midfilepath)  #parse MIDI, MusicXML, and ABC\n",
        "  all_midis.append(midi)"
      ]
    },
    {
      "cell_type": "code",
      "execution_count": 4,
      "metadata": {
        "colab": {
          "base_uri": "https://localhost:8080/"
        },
        "id": "RE_O-ExuRwMU",
        "outputId": "f869e44d-118e-44a8-b7bc-bd240281fb80"
      },
      "outputs": [
        {
          "output_type": "execute_result",
          "data": {
            "text/plain": [
              "16"
            ]
          },
          "metadata": {},
          "execution_count": 4
        }
      ],
      "source": [
        "len(all_midis)"
      ]
    },
    {
      "cell_type": "code",
      "source": [
        "all_midis[0]"
      ],
      "metadata": {
        "colab": {
          "base_uri": "https://localhost:8080/"
        },
        "id": "r6KWQhQbumyt",
        "outputId": "57d34df9-a155-4141-a412-a2c820ffbfc7"
      },
      "execution_count": 11,
      "outputs": [
        {
          "output_type": "execute_result",
          "data": {
            "text/plain": [
              "<music21.stream.Score 0x7faf7f0286d0>"
            ]
          },
          "metadata": {},
          "execution_count": 11
        }
      ]
    },
    {
      "cell_type": "markdown",
      "metadata": {
        "id": "8OSF6J5RjvyS"
      },
      "source": [
        "## **Extract Notes**"
      ]
    },
    {
      "cell_type": "code",
      "execution_count": 12,
      "metadata": {
        "colab": {
          "base_uri": "https://localhost:8080/"
        },
        "id": "OVrFoK6pjyEa",
        "outputId": "9af8185b-5454-4234-b259-d07c232725da"
      },
      "outputs": [
        {
          "output_type": "stream",
          "name": "stdout",
          "text": [
            "Total notes in all the Liszt midis in the dataset: 55474\n"
          ]
        }
      ],
      "source": [
        "#PartitionByInstrument function, we are able break up the file into individual instruments, if there are multiple instruments.\n",
        "#A note is a single letter. It's the smallest part of musical language. A chord is like a word: it's made up of multiple notes\n",
        "def extract_notes(file):\n",
        "    notes = []\n",
        "    pick = None\n",
        "    for j in file:\n",
        "        songs = instrument.partitionByInstrument(j)\n",
        "        for part in songs.parts:\n",
        "            pick = part.recurse()\n",
        "            for element in pick:\n",
        "                if isinstance(element, note.Note):\n",
        "                    notes.append(str(element.pitch))\n",
        "                elif isinstance(element, chord.Chord):\n",
        "                    notes.append(\".\".join(str(n) for n in element.normalOrder))\n",
        "\n",
        "    return notes\n",
        "#Getting the list of notes as Corpus\n",
        "Corpus= extract_notes(all_midis)   #All notes in our dataset\n",
        "print(\"Total notes in all the Liszt midis in the dataset:\", len(Corpus))"
      ]
    },
    {
      "cell_type": "code",
      "execution_count": 13,
      "metadata": {
        "colab": {
          "base_uri": "https://localhost:8080/"
        },
        "id": "YxBakN_pj51Q",
        "outputId": "ca11aadc-14a3-4fcc-c35e-e42f21d26ee6"
      },
      "outputs": [
        {
          "output_type": "stream",
          "name": "stdout",
          "text": [
            "First fifty values in the Corpus: ['9.2', '9.2', '2.5', '4.9', '9', 'C#4', '1.7', '9', '9.2', '2.5.9', '9.0.4', '9.0.4', '9', '0.6', '9.0.3', '0.6', '0.3', 'A2', 'G#2', 'A2', 'G#2', 'A2', 'G#2', 'A2', 'G#2', '6.9.0', '0.3', 'A2', 'G#2', 'A2', 'G#2', 'A2', 'G#2', 'A2', 'G#2', 'A2', 'G#2', 'A2', '0.6', '9', '0.3', 'G#2', 'A2', 'G#2', 'A2', 'G#2', 'A2', 'G#2', 'A2', 'G2']\n"
          ]
        }
      ],
      "source": [
        "print(\"First fifty values in the Corpus:\", Corpus[:50])"
      ]
    },
    {
      "cell_type": "code",
      "execution_count": 64,
      "metadata": {
        "id": "69ryeRNAU8-i"
      },
      "outputs": [],
      "source": [
        "with open(\"Corpus3.txt\", \"w\") as f:  #Saving the Corpus\n",
        "    for s in Corpus:\n",
        "        f.write(str(s) +\"\\n\")\n",
        "!cp Corpus3.txt \"/content/gdrive/My Drive/Projects/Music Generation/\""
      ]
    },
    {
      "cell_type": "code",
      "execution_count": 7,
      "metadata": {
        "id": "K3M9k2ryfQUH"
      },
      "outputs": [],
      "source": [
        "Corpus = []\n",
        "with open(\"/content/gdrive/My Drive/Projects/Music Generation/Corpus2.txt\", \"r\") as f:\n",
        "  for line in f:\n",
        "    Corpus.append((line.strip()))"
      ]
    },
    {
      "cell_type": "code",
      "execution_count": 14,
      "metadata": {
        "colab": {
          "base_uri": "https://localhost:8080/"
        },
        "id": "QVd42Weffdto",
        "outputId": "8ea332aa-398d-49b9-9a01-60e097183b57"
      },
      "outputs": [
        {
          "output_type": "execute_result",
          "data": {
            "text/plain": [
              "55474"
            ]
          },
          "metadata": {},
          "execution_count": 14
        }
      ],
      "source": [
        "len(Corpus)"
      ]
    },
    {
      "cell_type": "markdown",
      "metadata": {
        "id": "_O21CcNwj-op"
      },
      "source": [
        "## **Data Exploration**"
      ]
    },
    {
      "cell_type": "code",
      "execution_count": 25,
      "metadata": {
        "colab": {
          "base_uri": "https://localhost:8080/"
        },
        "id": "QjMxOx1cVb3n",
        "outputId": "824fb8eb-71de-4a0f-d069-de02276a0832"
      },
      "outputs": [
        {
          "output_type": "stream",
          "name": "stdout",
          "text": [
            "Total unique notes in the Corpus: 366\n"
          ]
        }
      ],
      "source": [
        "count_num = Counter(Corpus) # item : occurance\n",
        "print(\"Total unique notes in the Corpus:\", len(count_num))"
      ]
    },
    {
      "cell_type": "code",
      "execution_count": 27,
      "metadata": {
        "colab": {
          "base_uri": "https://localhost:8080/"
        },
        "id": "0bPt6JOXWJY0",
        "outputId": "929c405d-1192-4d46-8650-40afaec67514"
      },
      "outputs": [
        {
          "output_type": "stream",
          "name": "stdout",
          "text": [
            "Average recurrenc for a note in Corpus: 151.56830601092895\n",
            "Most frequent note in Corpus appeared: 899 times\n",
            "Least frequent note in Corpus appeared: 1 time\n"
          ]
        }
      ],
      "source": [
        "#Exploring the notes dictionary\n",
        "Notes = list(count_num.keys())\n",
        "Recurrence = list(count_num.values())\n",
        "#Average recurrenc for a note in Corpus\n",
        "def Average(lst):\n",
        "    return sum(lst) / len(lst)\n",
        "print(\"Average recurrenc for a note in Corpus:\", Average(Recurrence))\n",
        "print(\"Most frequent note in Corpus appeared:\", max(Recurrence), \"times\")\n",
        "print(\"Least frequent note in Corpus appeared:\", min(Recurrence), \"time\")"
      ]
    },
    {
      "cell_type": "code",
      "execution_count": 28,
      "metadata": {
        "colab": {
          "base_uri": "https://localhost:8080/"
        },
        "id": "JwkEsXMCgFRp",
        "outputId": "27de90b9-8dda-4129-f8be-b762f012d533"
      },
      "outputs": [
        {
          "output_type": "stream",
          "name": "stdout",
          "text": [
            "Total number of notes that occur less than 100 times: 236\n"
          ]
        }
      ],
      "source": [
        "#Getting a list of rare chords\n",
        "rare_note = []\n",
        "for index, (key, value) in enumerate(count_num.items()):\n",
        "    if value < 100:\n",
        "        m =  key\n",
        "        rare_note.append(m)\n",
        "        \n",
        "print(\"Total number of notes that occur less than 100 times:\", len(rare_note))"
      ]
    },
    {
      "cell_type": "code",
      "execution_count": 29,
      "metadata": {
        "colab": {
          "base_uri": "https://localhost:8080/"
        },
        "id": "SwUSVRLQgLPr",
        "outputId": "ca30f0fe-305a-4167-e241-784eed349599"
      },
      "outputs": [
        {
          "output_type": "stream",
          "name": "stdout",
          "text": [
            "Length of Corpus after elemination the rare notes: 52334\n"
          ]
        }
      ],
      "source": [
        "#Eleminating the rare notes\n",
        "for element in Corpus:\n",
        "    if element in rare_note:\n",
        "        Corpus.remove(element)\n",
        "\n",
        "print(\"Length of Corpus after elemination the rare notes:\", len(Corpus))"
      ]
    },
    {
      "cell_type": "code",
      "execution_count": 34,
      "metadata": {
        "colab": {
          "base_uri": "https://localhost:8080/"
        },
        "id": "N0Lk9hmzgPqb",
        "outputId": "8962c7cc-6767-4d12-dac9-adfd1dc636f3"
      },
      "outputs": [
        {
          "output_type": "stream",
          "name": "stdout",
          "text": [
            "Total number of characters: 52334\n",
            "Number of unique characters: 267\n"
          ]
        }
      ],
      "source": [
        "# Storing all the unique characters present in my corpus to bult a mapping dic. \n",
        "symb = sorted(list(set(Corpus)))\n",
        "L_corpus = len(Corpus) #length of corpus\n",
        "L_symb = len(symb) #length of total unique characters\n",
        "\n",
        "#Building dictionary to access the vocabulary from indices and vice versa\n",
        "mapping = dict((c, i) for i, c in enumerate(symb))\n",
        "reverse_mapping = dict((i, c) for i, c in enumerate(symb))\n",
        "\n",
        "print(\"Total number of characters:\", L_corpus)\n",
        "print(\"Number of unique characters:\", L_symb)"
      ]
    },
    {
      "cell_type": "code",
      "execution_count": 59,
      "metadata": {
        "colab": {
          "base_uri": "https://localhost:8080/"
        },
        "id": "xzamv2PGgYF9",
        "outputId": "1e693086-b2bc-4db8-8066-51786beda297"
      },
      "outputs": [
        {
          "output_type": "stream",
          "name": "stdout",
          "text": [
            "Total number of sequences in the Corpus: 52294\n"
          ]
        }
      ],
      "source": [
        "#Splitting the Corpus in equal length of strings and output target\n",
        "length = 40\n",
        "features = []\n",
        "targets = []\n",
        "for i in range(0, L_corpus - length, 1):\n",
        "    feature = Corpus[i:i + length]\n",
        "    target = Corpus[i + length]\n",
        "    features.append([mapping[j] for j in feature])\n",
        "    targets.append(mapping[target])\n",
        "L_datapoints = len(targets)\n",
        "print(\"Total number of sequences in the Corpus:\", L_datapoints)\n",
        "\n",
        "#Another Approach\n",
        "# length = 20\n",
        "# features = []\n",
        "# targets = []\n",
        "# for i in range(length, L_corpus - length, 1):\n",
        "#     feature = Corpus[i-length:i + length]\n",
        "#     target = Corpus[i]\n",
        "#     features.append([mapping[j] for j in feature])\n",
        "#     targets.append(mapping[target])\n",
        "\n",
        "# L_datapoints = len(targets)\n",
        "# print(\"Total number of sequences in the Corpus:\", L_datapoints)"
      ]
    },
    {
      "cell_type": "code",
      "source": [
        "print(features[0])\n",
        "print(targets[0])\n",
        "print(features[1])\n",
        "print(targets[1])\n",
        "print(features[2])\n",
        "print(targets[2])\n",
        "print(features[3])\n",
        "print(targets[3])\n",
        "print(features[4])\n",
        "print(targets[4])\n",
        "print(features[5])\n",
        "print(targets[5])"
      ],
      "metadata": {
        "colab": {
          "base_uri": "https://localhost:8080/"
        },
        "id": "uyQWMgnT7npr",
        "outputId": "51dfbaa1-9ebe-4520-fbb5-4067c3e7437d"
      },
      "execution_count": 60,
      "outputs": [
        {
          "output_type": "stream",
          "name": "stdout",
          "text": [
            "[191, 191, 74, 116, 175, 212, 175, 191, 181, 181, 175, 19, 19, 7, 193, 254, 193, 254, 193, 254, 193, 254, 7, 193, 254, 193, 254, 193, 254, 193, 254, 193, 254, 193, 19, 175, 7, 254, 193, 254]\n",
            "193\n",
            "[191, 74, 116, 175, 212, 175, 191, 181, 181, 175, 19, 19, 7, 193, 254, 193, 254, 193, 254, 193, 254, 7, 193, 254, 193, 254, 193, 254, 193, 254, 193, 254, 193, 19, 175, 7, 254, 193, 254, 193]\n",
            "254\n",
            "[74, 116, 175, 212, 175, 191, 181, 181, 175, 19, 19, 7, 193, 254, 193, 254, 193, 254, 193, 254, 7, 193, 254, 193, 254, 193, 254, 193, 254, 193, 254, 193, 19, 175, 7, 254, 193, 254, 193, 254]\n",
            "193\n",
            "[116, 175, 212, 175, 191, 181, 181, 175, 19, 19, 7, 193, 254, 193, 254, 193, 254, 193, 254, 7, 193, 254, 193, 254, 193, 254, 193, 254, 193, 254, 193, 19, 175, 7, 254, 193, 254, 193, 254, 193]\n",
            "254\n",
            "[175, 212, 175, 191, 181, 181, 175, 19, 19, 7, 193, 254, 193, 254, 193, 254, 193, 254, 7, 193, 254, 193, 254, 193, 254, 193, 254, 193, 254, 193, 19, 175, 7, 254, 193, 254, 193, 254, 193, 254]\n",
            "193\n",
            "[212, 175, 191, 181, 181, 175, 19, 19, 7, 193, 254, 193, 254, 193, 254, 193, 254, 7, 193, 254, 193, 254, 193, 254, 193, 254, 193, 254, 193, 19, 175, 7, 254, 193, 254, 193, 254, 193, 254, 193]\n",
            "261\n"
          ]
        }
      ]
    },
    {
      "cell_type": "code",
      "source": [
        "len(features[1])"
      ],
      "metadata": {
        "colab": {
          "base_uri": "https://localhost:8080/"
        },
        "id": "5wKVo2Je9ZKp",
        "outputId": "bc8cf5df-391f-425c-d895-fc0554ceb64d"
      },
      "execution_count": 53,
      "outputs": [
        {
          "output_type": "execute_result",
          "data": {
            "text/plain": [
              "40"
            ]
          },
          "metadata": {},
          "execution_count": 53
        }
      ]
    },
    {
      "cell_type": "code",
      "execution_count": 54,
      "metadata": {
        "id": "dW6WBc8BgeXc"
      },
      "outputs": [],
      "source": [
        "# reshape X and normalize\n",
        "X = (np.reshape(features, (L_datapoints,2* length, 1)))/ float(L_symb)\n",
        "# one hot encode the output variable\n",
        "y = tensorflow.keras.utils.to_categorical(targets) "
      ]
    },
    {
      "cell_type": "code",
      "execution_count": 55,
      "metadata": {
        "id": "PiUjuZ2EhEk8"
      },
      "outputs": [],
      "source": [
        "X_train, X_seed, y_train, y_seed = train_test_split(X, y, test_size=0.2, random_state=42)"
      ]
    },
    {
      "cell_type": "code",
      "execution_count": 56,
      "metadata": {
        "id": "_-AMCoJ5giyq"
      },
      "outputs": [],
      "source": [
        "'''\n",
        "#Initialising the Model\n",
        "model = Sequential()\n",
        "#Adding layers\n",
        "model.add(LSTM(512, input_shape=(X.shape[1], X.shape[2]), return_sequences=True))\n",
        "model.add(Dropout(0.1))\n",
        "model.add(LSTM(256))\n",
        "model.add(Dense(256))\n",
        "model.add(Dropout(0.1))\n",
        "model.add(Dense(y.shape[1], activation='softmax'))\n",
        "#Compiling the model for training  \n",
        "opt = Adamax(learning_rate=0.01)\n",
        "model.compile(loss='categorical_crossentropy', optimizer=opt)\n",
        "'''\n",
        "\n",
        "from keras.layers import Activation\n",
        "from keras.layers import BatchNormalization as BatchNorm\n",
        "#Initialising the Model\n",
        "model = Sequential()\n",
        "#Adding layers\n",
        "model.add(LSTM(512, input_shape=(X.shape[1], X.shape[2]), recurrent_dropout=0.3, return_sequences=True))\n",
        "model.add(LSTM(512))\n",
        "model.add(BatchNorm())\n",
        "model.add(Dense(256))\n",
        "model.add(Activation('relu'))\n",
        "model.add(BatchNorm())\n",
        "model.add(Dropout(0.3))\n",
        "model.add(Dense(y.shape[1], activation='softmax'))\n",
        "model.compile(loss='categorical_crossentropy', optimizer=\"rmsprop\")\n"
      ]
    },
    {
      "cell_type": "code",
      "execution_count": 57,
      "metadata": {
        "colab": {
          "base_uri": "https://localhost:8080/"
        },
        "id": "oXm5oTUgg6t-",
        "outputId": "9a04ab0f-a057-4a4b-90a0-3c9630a1fc8a"
      },
      "outputs": [
        {
          "output_type": "stream",
          "name": "stdout",
          "text": [
            "Model: \"sequential\"\n",
            "_________________________________________________________________\n",
            " Layer (type)                Output Shape              Param #   \n",
            "=================================================================\n",
            " lstm (LSTM)                 (None, 40, 512)           1052672   \n",
            "                                                                 \n",
            " lstm_1 (LSTM)               (None, 512)               2099200   \n",
            "                                                                 \n",
            " batch_normalization (BatchN  (None, 512)              2048      \n",
            " ormalization)                                                   \n",
            "                                                                 \n",
            " dense (Dense)               (None, 256)               131328    \n",
            "                                                                 \n",
            " activation (Activation)     (None, 256)               0         \n",
            "                                                                 \n",
            " batch_normalization_1 (Batc  (None, 256)              1024      \n",
            " hNormalization)                                                 \n",
            "                                                                 \n",
            " dropout (Dropout)           (None, 256)               0         \n",
            "                                                                 \n",
            " dense_1 (Dense)             (None, 267)               68619     \n",
            "                                                                 \n",
            "=================================================================\n",
            "Total params: 3,354,891\n",
            "Trainable params: 3,353,355\n",
            "Non-trainable params: 1,536\n",
            "_________________________________________________________________\n"
          ]
        }
      ],
      "source": [
        "#Model's Summary               \n",
        "model.summary()"
      ]
    },
    {
      "cell_type": "code",
      "execution_count": null,
      "metadata": {
        "id": "8uSvLWPng7oV"
      },
      "outputs": [],
      "source": [
        "history = model.fit(X_train, y_train, batch_size=256, epochs=200)"
      ]
    },
    {
      "cell_type": "code",
      "execution_count": 82,
      "metadata": {
        "colab": {
          "base_uri": "https://localhost:8080/",
          "height": 325
        },
        "id": "WKTpO-nDg_Vw",
        "outputId": "3b325ae0-c300-457a-df54-769ba3a629e8"
      },
      "outputs": [
        {
          "output_type": "execute_result",
          "data": {
            "text/plain": [
              "[Text(0.5, 0, 'Epochs')]"
            ]
          },
          "metadata": {},
          "execution_count": 82
        },
        {
          "output_type": "display_data",
          "data": {
            "text/plain": [
              "<Figure size 1080x288 with 1 Axes>"
            ],
            "image/png": "[encoded data removed]"
          },
          "metadata": {
            "image/png": {
              "width": 878,
              "height": 290
            }
          }
        }
      ],
      "source": [
        "#Plotting the learnings \n",
        "history_df = pd.DataFrame(history.history)\n",
        "fig = plt.figure(figsize=(15,4), facecolor=\"#97BACB\")\n",
        "fig.suptitle(\"Learning Plot of Model for Loss\")\n",
        "pl=sns.lineplot(data=history_df[\"loss\"],color=\"#444160\")\n",
        "pl.set(ylabel =\"Training Loss\")\n",
        "pl.set(xlabel =\"Epochs\")"
      ]
    },
    {
      "cell_type": "code",
      "source": [
        "from keras.models import model_from_json\n",
        "from keras.models import load_model\n",
        "\n",
        "# serialize model to JSON\n",
        "#  the keras model which is trained is defined as 'model' in this example\n",
        "model_json = model.to_json()\n",
        "\n",
        "\n",
        "with open(\"model3.json\", \"w\") as json_file:\n",
        "    json_file.write(model_json)\n",
        "!cp model3.json \"/content/gdrive/My Drive/Projects/Music Generation/\"\n",
        "\n",
        "# serialize weights to HDF5\n",
        "model.save_weights(\"model3.h5\")\n",
        "!cp model3.h5 \"/content/gdrive/My Drive/Projects/Music Generation/\""
      ],
      "metadata": {
        "id": "FGbYDsY96sh1"
      },
      "execution_count": 83,
      "outputs": []
    },
    {
      "cell_type": "code",
      "execution_count": 92,
      "metadata": {
        "id": "4WyHlfiDhblm"
      },
      "outputs": [],
      "source": [
        "def Malody_Generator(Note_Count):\n",
        "    seed = X_seed[np.random.randint(0,len(X_seed)-1)]\n",
        "    Music = \"\"\n",
        "    Notes_Generated=[]\n",
        "    for i in range(Note_Count):\n",
        "        seed = seed.reshape(1,length,1)\n",
        "        prediction = model.predict(seed, verbose=0)[0]\n",
        "        prediction = np.log(prediction) / 1.0 #diversity\n",
        "        exp_preds = np.exp(prediction)\n",
        "        prediction = exp_preds / np.sum(exp_preds)\n",
        "        index = np.argmax(prediction)\n",
        "        index_N = index/ float(L_symb)   \n",
        "        Notes_Generated.append(index)\n",
        "        Music = [reverse_mapping[char] for char in Notes_Generated]\n",
        "        seed = np.insert(seed[0],len(seed[0]),index_N)\n",
        "        seed = seed[1:]\n",
        "    #Now, we have music in form or a list of chords and notes and we want to be a midi file.\n",
        "    Melody = chords_n_notes(Music)\n",
        "    Melody_midi = stream.Stream(Melody)    #List of Notes \n",
        "    return Music,Melody_midi\n",
        "\n",
        "\n",
        "#getting the Notes and Melody created by the model\n",
        "Music_notes, Melody = Malody_Generator(600)"
      ]
    },
    {
      "cell_type": "code",
      "source": [
        "Melody.write('midi','music.mid')\n",
        "!cp music.mid \"/content/gdrive/My Drive/Projects/Music Generation/\""
      ],
      "metadata": {
        "id": "iyXHx4eH-RrJ"
      },
      "execution_count": 93,
      "outputs": []
    }
  ],
  "metadata": {
    "colab": {
      "name": "Music Generation.ipynb",
      "provenance": [],
      "authorship_tag": "ABX9TyOm87Z+QD5sZHlTv/H2rOrZ",
      "include_colab_link": true
    },
    "kernelspec": {
      "display_name": "Python 3",
      "name": "python3"
    },
    "language_info": {
      "name": "python"
    }
  },
  "nbformat": 4,
  "nbformat_minor": 0
}